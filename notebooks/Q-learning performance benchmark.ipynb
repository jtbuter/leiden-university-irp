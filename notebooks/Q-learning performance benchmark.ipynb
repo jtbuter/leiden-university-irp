{
 "cells": [
  {
   "cell_type": "code",
   "execution_count": 17,
   "id": "e8e1b39c",
   "metadata": {},
   "outputs": [
    {
     "name": "stdout",
     "output_type": "stream",
     "text": [
      "The snakeviz extension is already loaded. To reload it, use:\n",
      "  %reload_ext snakeviz\n"
     ]
    }
   ],
   "source": [
    "%load_ext snakeviz"
   ]
  },
  {
   "cell_type": "code",
   "execution_count": 18,
   "id": "e6b63d52",
   "metadata": {},
   "outputs": [],
   "source": [
    "from irp import ROOT_DIR\n",
    "import os\n",
    "import glob\n",
    "import hashlib"
   ]
  },
  {
   "cell_type": "code",
   "execution_count": 19,
   "id": "74827591",
   "metadata": {},
   "outputs": [
    {
     "name": "stdout",
     "output_type": "stream",
     "text": [
      " \n",
      "*** Profile stats marshalled to file '/tmp/tmpus1qkxuu'.\n",
      "Embedding SnakeViz in this document...\n",
      "<function display at 0x7f285b232d30>\n"
     ]
    },
    {
     "data": {
      "text/html": [
       "\n",
       "<iframe id='snakeviz-9f75de82-eb31-11ed-8768-01d162649c5f' frameborder=0 seamless width='100%' height='1000'></iframe>\n",
       "<script>document.getElementById(\"snakeviz-9f75de82-eb31-11ed-8768-01d162649c5f\").setAttribute(\"src\", \"http://\" + document.location.hostname + \":8081/snakeviz/%2Ftmp%2Ftmpus1qkxuu\")</script>\n"
      ],
      "text/plain": [
       "<IPython.core.display.HTML object>"
      ]
     },
     "metadata": {},
     "output_type": "display_data"
    }
   ],
   "source": [
    "%snakeviz os.path.join(ROOT_DIR, 'results/goal_feasabability/q-learn-benchmark.prof')"
   ]
  },
  {
   "cell_type": "code",
   "execution_count": null,
   "id": "d525bccf",
   "metadata": {},
   "outputs": [],
   "source": []
  }
 ],
 "metadata": {
  "kernelspec": {
   "display_name": "Python 3 (ipykernel)",
   "language": "python",
   "name": "python3"
  },
  "language_info": {
   "codemirror_mode": {
    "name": "ipython",
    "version": 3
   },
   "file_extension": ".py",
   "mimetype": "text/x-python",
   "name": "python",
   "nbconvert_exporter": "python",
   "pygments_lexer": "ipython3",
   "version": "3.8.0"
  }
 },
 "nbformat": 4,
 "nbformat_minor": 5
}

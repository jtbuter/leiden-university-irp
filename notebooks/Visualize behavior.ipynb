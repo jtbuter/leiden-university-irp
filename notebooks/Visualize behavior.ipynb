{
 "cells": [
  {
   "cell_type": "code",
   "execution_count": 46,
   "id": "d3b9f028",
   "metadata": {},
   "outputs": [],
   "source": [
    "from irp.q import Q\n",
    "from irp.envs import Sahba2008UltraSoundEnv\n",
    "from irp.wrappers import Discretize\n",
    "from irp import utils\n",
    "\n",
    "from gym.wrappers import TimeLimit\n",
    "import numpy as np"
   ]
  },
  {
   "cell_type": "code",
   "execution_count": 54,
   "id": "88e05baf",
   "metadata": {},
   "outputs": [],
   "source": [
    "# Define the model we'll use\n",
    "model_id = 3"
   ]
  },
  {
   "cell_type": "code",
   "execution_count": 55,
   "id": "641facd8",
   "metadata": {},
   "outputs": [],
   "source": [
    "# Extract the meta-data associated with the model we'll use\n",
    "experiment = np.load(f'../irp/results/sahba2008/meta_{model_id}.npy', allow_pickle=True).item()['experiment']\n",
    "# Load the images we'll use\n",
    "data = utils.make_sample_label(experiment['train_image_path'], experiment['test_image_path'])\n",
    "# Only use the train images\n",
    "train_image, train_label = data[0]"
   ]
  },
  {
   "cell_type": "code",
   "execution_count": 56,
   "id": "1a1f1c0e",
   "metadata": {},
   "outputs": [],
   "source": [
    "# Values we need to setting up the environment and model again\n",
    "values = ['num_thresholds', 'vjs', 'lows', 'highs', 'bins', 'episode_length']\n",
    "# Extract the values\n",
    "num_thresholds, vjs, lows, highs, bins, episode_length = [experiment[key] for key in values]"
   ]
  },
  {
   "cell_type": "code",
   "execution_count": 57,
   "id": "ee9025be",
   "metadata": {},
   "outputs": [],
   "source": [
    "# Initialize the environment\n",
    "env = Sahba2008UltraSoundEnv(train_image, train_label, num_thresholds, vjs)\n",
    "# Cast continuous values to bins\n",
    "env = Discretize(env, lows, highs, bins)\n",
    "# Set a maximum episode length\n",
    "env = TimeLimit(env, episode_length)"
   ]
  },
  {
   "cell_type": "code",
   "execution_count": 58,
   "id": "7adadfc1",
   "metadata": {},
   "outputs": [
    {
     "data": {
      "image/png": "[encoded data removed]",
      "text/plain": [
       "<Figure size 640x480 with 1 Axes>"
      ]
     },
     "metadata": {},
     "output_type": "display_data"
    }
   ],
   "source": [
    "# Show a rendering of the environment\n",
    "s = env.reset()\n",
    "env.render()"
   ]
  },
  {
   "cell_type": "code",
   "execution_count": 59,
   "id": "1db671cd",
   "metadata": {},
   "outputs": [],
   "source": [
    "model_path = f'../irp/results/sahba2008/model_{model_id}'\n",
    "model = Q.load(model_path, env)"
   ]
  },
  {
   "cell_type": "code",
   "execution_count": 113,
   "id": "206c0f89",
   "metadata": {},
   "outputs": [
    {
     "data": {
      "image/png": "[encoded data removed]",
      "text/plain": [
       "<Figure size 640x480 with 1 Axes>"
      ]
     },
     "metadata": {},
     "output_type": "display_data"
    }
   ],
   "source": [
    "a = model.predict(s, deterministic=False)\n",
    "s1, r, d, i = env.step(a)\n",
    "\n",
    "env.render()\n",
    "\n",
    "s = s1"
   ]
  },
  {
   "cell_type": "code",
   "execution_count": null,
   "id": "eee57dfc",
   "metadata": {},
   "outputs": [],
   "source": []
  }
 ],
 "metadata": {
  "kernelspec": {
   "display_name": "Python 3 (ipykernel)",
   "language": "python",
   "name": "python3"
  },
  "language_info": {
   "codemirror_mode": {
    "name": "ipython",
    "version": 3
   },
   "file_extension": ".py",
   "mimetype": "text/x-python",
   "name": "python",
   "nbconvert_exporter": "python",
   "pygments_lexer": "ipython3",
   "version": "3.8.0"
  }
 },
 "nbformat": 4,
 "nbformat_minor": 5
}
